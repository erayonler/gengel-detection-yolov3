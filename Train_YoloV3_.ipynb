{
  "nbformat": 4,
  "nbformat_minor": 0,
  "metadata": {
    "colab": {
      "name": "Train_YoloV3 .ipynb",
      "provenance": [],
      "collapsed_sections": []
    },
    "kernelspec": {
      "name": "python3",
      "display_name": "Python 3"
    },
    "accelerator": "GPU"
  },
  "cells": [
    {
      "cell_type": "markdown",
      "metadata": {
        "id": "wHBQcQzjD6HJ"
      },
      "source": [
        "**Connect google drive**"
      ]
    },
    {
      "cell_type": "code",
      "metadata": {
        "id": "bwp6NIrsZZFP"
      },
      "source": [
        "# Check if NVIDIA GPU is enabled\n",
        "!nvidia-smi"
      ],
      "execution_count": null,
      "outputs": []
    },
    {
      "cell_type": "code",
      "metadata": {
        "id": "9e9ZW3sqMEPO"
      },
      "source": [
        "from google.colab import drive\n",
        "drive.mount('/content/gdrive')\n",
        "!ln -s /content/gdrive/My\\ Drive/ /mydrive\n",
        "!ls /mydrive"
      ],
      "execution_count": null,
      "outputs": []
    },
    {
      "cell_type": "code",
      "metadata": {
        "id": "q6f8on2_dNzx"
      },
      "source": [
        "!mkdir \"/mydrive/yolov3\""
      ],
      "execution_count": null,
      "outputs": []
    },
    {
      "cell_type": "code",
      "metadata": {
        "id": "DKXH_9xyvn8n"
      },
      "source": [
        "%cd gdrive/MyDrive/yolov3\n",
        "!ls"
      ],
      "execution_count": null,
      "outputs": []
    },
    {
      "cell_type": "markdown",
      "metadata": {
        "id": "t7utW4in4azV"
      },
      "source": [
        "**1) Clone the Darknet**\n",
        "\n"
      ]
    },
    {
      "cell_type": "code",
      "metadata": {
        "id": "e03U7Zi-qMr2"
      },
      "source": [
        "!git clone https://github.com/AlexeyAB/darknet"
      ],
      "execution_count": null,
      "outputs": []
    },
    {
      "cell_type": "markdown",
      "metadata": {
        "id": "7gDOF3mU-TAn"
      },
      "source": [
        "**2) Compile Darknet using Nvidia GPU**\n"
      ]
    },
    {
      "cell_type": "code",
      "metadata": {
        "id": "5H-Taj06Tw1c"
      },
      "source": [
        "# change makefile to have GPU and OPENCV enabled\n",
        "%cd darknet\n",
        "!sed -i 's/OPENCV=0/OPENCV=1/' Makefile\n",
        "!sed -i 's/GPU=0/GPU=1/' Makefile\n",
        "!sed -i 's/CUDNN=0/CUDNN=1/' Makefile\n",
        "!make"
      ],
      "execution_count": null,
      "outputs": []
    },
    {
      "cell_type": "markdown",
      "metadata": {
        "id": "gAOLtA_qI9vF"
      },
      "source": [
        "**3) Configure Darknet network for training YOLO V3**"
      ]
    },
    {
      "cell_type": "code",
      "metadata": {
        "id": "s-RpscgU853t"
      },
      "source": [
        "!cp cfg/yolov3.cfg cfg/yolov3_training.cfg"
      ],
      "execution_count": null,
      "outputs": []
    },
    {
      "cell_type": "code",
      "metadata": {
        "id": "5ZgVQRop_vwR"
      },
      "source": [
        "!sed -i 's/batch=1/batch=64/' cfg/yolov3_training.cfg\n",
        "!sed -i 's/subdivisions=1/subdivisions=16/' cfg/yolov3_training.cfg\n",
        "!sed -i 's/max_batches = 500200/max_batches = 4000/' cfg/yolov3_training.cfg\n",
        "!sed -i '610 s@classes=80@classes=1@' cfg/yolov3_training.cfg\n",
        "!sed -i '696 s@classes=80@classes=1@' cfg/yolov3_training.cfg\n",
        "!sed -i '783 s@classes=80@classes=1@' cfg/yolov3_training.cfg\n",
        "!sed -i '603 s@filters=255@filters=18@' cfg/yolov3_training.cfg\n",
        "!sed -i '689 s@filters=255@filters=18@' cfg/yolov3_training.cfg\n",
        "!sed -i '776 s@filters=255@filters=18@' cfg/yolov3_training.cfg"
      ],
      "execution_count": null,
      "outputs": []
    },
    {
      "cell_type": "code",
      "metadata": {
        "id": "nscRN-X2Mr3d"
      },
      "source": [
        "# Create folder on google drive so that we can save there the weights\n"
      ],
      "execution_count": null,
      "outputs": []
    },
    {
      "cell_type": "code",
      "metadata": {
        "id": "7AIBw_psIclz"
      },
      "source": [
        "!echo \"gengel\" > data/obj.names\n",
        "!echo -e 'classes= 1\\ntrain  = data/train.txt\\nvalid  = data/test.txt\\nnames = data/obj.names\\nbackup = /mydrive/yolov3' > data/obj.data\n",
        "!mkdir data/obj"
      ],
      "execution_count": null,
      "outputs": []
    },
    {
      "cell_type": "code",
      "metadata": {
        "id": "eZlkzFMW7I_N"
      },
      "source": [
        "# Download weights darknet model 53\n",
        "!wget https://pjreddie.com/media/files/darknet53.conv.74"
      ],
      "execution_count": null,
      "outputs": []
    },
    {
      "cell_type": "code",
      "metadata": {
        "id": "jhb5nZvsQ_96"
      },
      "source": [
        "!unzip /mydrive/yolov3/images.zip -d data/obj"
      ],
      "execution_count": null,
      "outputs": []
    },
    {
      "cell_type": "markdown",
      "metadata": {
        "id": "kcyslmuPcf7m"
      },
      "source": [
        "Create train and text files with images full address paths"
      ]
    },
    {
      "cell_type": "code",
      "metadata": {
        "colab": {
          "base_uri": "https://localhost:8080/"
        },
        "id": "YNp2wVMMbK2t",
        "outputId": "1d9cfbff-5b65-41df-be80-1d64ba74594d"
      },
      "source": [
        "%cd data/obj/images"
      ],
      "execution_count": null,
      "outputs": [
        {
          "output_type": "stream",
          "text": [
            "/content/gdrive/My Drive/yolov3/darknet/data/obj/images\n"
          ],
          "name": "stdout"
        }
      ]
    },
    {
      "cell_type": "code",
      "metadata": {
        "colab": {
          "base_uri": "https://localhost:8080/"
        },
        "id": "LW8Lf8z-ce4X",
        "outputId": "045e3ba4-81c9-4055-97c9-332cd7547b57"
      },
      "source": [
        "import glob\n",
        "import os\n",
        "\n",
        "images_list = glob.glob(\"*.jpg\")\n",
        "print(images_list)"
      ],
      "execution_count": null,
      "outputs": [
        {
          "output_type": "stream",
          "text": [
            "['gengel16.jpg', 'gengel15.jpg', 'gengel29.jpg', 'gengel28.jpg', 'gengel14.jpg', 'gengel38.jpg', 'gengel10.jpg', 'gengel8.jpg', 'gengel9.jpg', 'gengel11.jpg', 'gengel39.jpg', 'gengel13.jpg', 'gengel12.jpg', 'gengel75.jpg', 'gengel61.jpg', 'gengel49.jpg', 'gengel48.jpg', 'gengel60.jpg', 'gengel74.jpg', 'gengel62.jpg', 'gengel76.jpg', 'gengel77.jpg', 'gengel63.jpg', 'gengel67.jpg', 'gengel73.jpg', 'gengel72.jpg', 'gengel66.jpg', 'gengel58.jpg', 'gengel70.jpg', 'gengel64.jpg', 'gengel65.jpg', 'gengel71.jpg', 'gengel59.jpg', 'gengel54.jpg', 'gengel40.jpg', 'gengel68.jpg', 'gengel69.jpg', 'gengel41.jpg', 'gengel55.jpg', 'gengel80.jpg', 'gengel43.jpg', 'gengel56.jpg', 'gengel42.jpg', 'gengel46.jpg', 'gengel52.jpg', 'gengel53.jpg', 'gengel47.jpg', 'gengel79.jpg', 'gengel51.jpg', 'gengel45.jpg', 'gengel44.jpg', 'gengel50.jpg', 'gengel78.jpg', 'gengel37.jpg', 'gengel23.jpg', 'gengel7.jpg', 'gengel6.jpg', 'gengel22.jpg', 'gengel36.jpg', 'gengel20.jpg', 'gengel34.jpg', 'gengel4.jpg', 'gengel5.jpg', 'gengel35.jpg', 'gengel21.jpg', 'gengel19.jpg', 'gengel25.jpg', 'gengel31.jpg', 'gengel1.jpg', 'gengel0.jpg', 'gengel30.jpg', 'gengel24.jpg', 'gengel18.jpg', 'gengel32.jpg', 'gengel26.jpg', 'gengel2.jpg', 'gengel3.jpg', 'gengel27.jpg', 'gengel33.jpg']\n"
          ],
          "name": "stdout"
        }
      ]
    },
    {
      "cell_type": "code",
      "metadata": {
        "colab": {
          "base_uri": "https://localhost:8080/"
        },
        "id": "W_DBniTqd1EJ",
        "outputId": "896b194c-0730-4eac-9caf-6fe3059bc826"
      },
      "source": [
        "images_adress_list = [\"/content/gdrive/My Drive/yolov3/darknet/data/obj/images/\"+ i for i in images_list]\n",
        "print(images_adress_list)"
      ],
      "execution_count": null,
      "outputs": [
        {
          "output_type": "stream",
          "text": [
            "['/content/gdrive/My Drive/yolov3/darknet/data/obj/images/gengel16.jpg', '/content/gdrive/My Drive/yolov3/darknet/data/obj/images/gengel15.jpg', '/content/gdrive/My Drive/yolov3/darknet/data/obj/images/gengel29.jpg', '/content/gdrive/My Drive/yolov3/darknet/data/obj/images/gengel28.jpg', '/content/gdrive/My Drive/yolov3/darknet/data/obj/images/gengel14.jpg', '/content/gdrive/My Drive/yolov3/darknet/data/obj/images/gengel38.jpg', '/content/gdrive/My Drive/yolov3/darknet/data/obj/images/gengel10.jpg', '/content/gdrive/My Drive/yolov3/darknet/data/obj/images/gengel8.jpg', '/content/gdrive/My Drive/yolov3/darknet/data/obj/images/gengel9.jpg', '/content/gdrive/My Drive/yolov3/darknet/data/obj/images/gengel11.jpg', '/content/gdrive/My Drive/yolov3/darknet/data/obj/images/gengel39.jpg', '/content/gdrive/My Drive/yolov3/darknet/data/obj/images/gengel13.jpg', '/content/gdrive/My Drive/yolov3/darknet/data/obj/images/gengel12.jpg', '/content/gdrive/My Drive/yolov3/darknet/data/obj/images/gengel75.jpg', '/content/gdrive/My Drive/yolov3/darknet/data/obj/images/gengel61.jpg', '/content/gdrive/My Drive/yolov3/darknet/data/obj/images/gengel49.jpg', '/content/gdrive/My Drive/yolov3/darknet/data/obj/images/gengel48.jpg', '/content/gdrive/My Drive/yolov3/darknet/data/obj/images/gengel60.jpg', '/content/gdrive/My Drive/yolov3/darknet/data/obj/images/gengel74.jpg', '/content/gdrive/My Drive/yolov3/darknet/data/obj/images/gengel62.jpg', '/content/gdrive/My Drive/yolov3/darknet/data/obj/images/gengel76.jpg', '/content/gdrive/My Drive/yolov3/darknet/data/obj/images/gengel77.jpg', '/content/gdrive/My Drive/yolov3/darknet/data/obj/images/gengel63.jpg', '/content/gdrive/My Drive/yolov3/darknet/data/obj/images/gengel67.jpg', '/content/gdrive/My Drive/yolov3/darknet/data/obj/images/gengel73.jpg', '/content/gdrive/My Drive/yolov3/darknet/data/obj/images/gengel72.jpg', '/content/gdrive/My Drive/yolov3/darknet/data/obj/images/gengel66.jpg', '/content/gdrive/My Drive/yolov3/darknet/data/obj/images/gengel58.jpg', '/content/gdrive/My Drive/yolov3/darknet/data/obj/images/gengel70.jpg', '/content/gdrive/My Drive/yolov3/darknet/data/obj/images/gengel64.jpg', '/content/gdrive/My Drive/yolov3/darknet/data/obj/images/gengel65.jpg', '/content/gdrive/My Drive/yolov3/darknet/data/obj/images/gengel71.jpg', '/content/gdrive/My Drive/yolov3/darknet/data/obj/images/gengel59.jpg', '/content/gdrive/My Drive/yolov3/darknet/data/obj/images/gengel54.jpg', '/content/gdrive/My Drive/yolov3/darknet/data/obj/images/gengel40.jpg', '/content/gdrive/My Drive/yolov3/darknet/data/obj/images/gengel68.jpg', '/content/gdrive/My Drive/yolov3/darknet/data/obj/images/gengel69.jpg', '/content/gdrive/My Drive/yolov3/darknet/data/obj/images/gengel41.jpg', '/content/gdrive/My Drive/yolov3/darknet/data/obj/images/gengel55.jpg', '/content/gdrive/My Drive/yolov3/darknet/data/obj/images/gengel80.jpg', '/content/gdrive/My Drive/yolov3/darknet/data/obj/images/gengel43.jpg', '/content/gdrive/My Drive/yolov3/darknet/data/obj/images/gengel56.jpg', '/content/gdrive/My Drive/yolov3/darknet/data/obj/images/gengel42.jpg', '/content/gdrive/My Drive/yolov3/darknet/data/obj/images/gengel46.jpg', '/content/gdrive/My Drive/yolov3/darknet/data/obj/images/gengel52.jpg', '/content/gdrive/My Drive/yolov3/darknet/data/obj/images/gengel53.jpg', '/content/gdrive/My Drive/yolov3/darknet/data/obj/images/gengel47.jpg', '/content/gdrive/My Drive/yolov3/darknet/data/obj/images/gengel79.jpg', '/content/gdrive/My Drive/yolov3/darknet/data/obj/images/gengel51.jpg', '/content/gdrive/My Drive/yolov3/darknet/data/obj/images/gengel45.jpg', '/content/gdrive/My Drive/yolov3/darknet/data/obj/images/gengel44.jpg', '/content/gdrive/My Drive/yolov3/darknet/data/obj/images/gengel50.jpg', '/content/gdrive/My Drive/yolov3/darknet/data/obj/images/gengel78.jpg', '/content/gdrive/My Drive/yolov3/darknet/data/obj/images/gengel37.jpg', '/content/gdrive/My Drive/yolov3/darknet/data/obj/images/gengel23.jpg', '/content/gdrive/My Drive/yolov3/darknet/data/obj/images/gengel7.jpg', '/content/gdrive/My Drive/yolov3/darknet/data/obj/images/gengel6.jpg', '/content/gdrive/My Drive/yolov3/darknet/data/obj/images/gengel22.jpg', '/content/gdrive/My Drive/yolov3/darknet/data/obj/images/gengel36.jpg', '/content/gdrive/My Drive/yolov3/darknet/data/obj/images/gengel20.jpg', '/content/gdrive/My Drive/yolov3/darknet/data/obj/images/gengel34.jpg', '/content/gdrive/My Drive/yolov3/darknet/data/obj/images/gengel4.jpg', '/content/gdrive/My Drive/yolov3/darknet/data/obj/images/gengel5.jpg', '/content/gdrive/My Drive/yolov3/darknet/data/obj/images/gengel35.jpg', '/content/gdrive/My Drive/yolov3/darknet/data/obj/images/gengel21.jpg', '/content/gdrive/My Drive/yolov3/darknet/data/obj/images/gengel19.jpg', '/content/gdrive/My Drive/yolov3/darknet/data/obj/images/gengel25.jpg', '/content/gdrive/My Drive/yolov3/darknet/data/obj/images/gengel31.jpg', '/content/gdrive/My Drive/yolov3/darknet/data/obj/images/gengel1.jpg', '/content/gdrive/My Drive/yolov3/darknet/data/obj/images/gengel0.jpg', '/content/gdrive/My Drive/yolov3/darknet/data/obj/images/gengel30.jpg', '/content/gdrive/My Drive/yolov3/darknet/data/obj/images/gengel24.jpg', '/content/gdrive/My Drive/yolov3/darknet/data/obj/images/gengel18.jpg', '/content/gdrive/My Drive/yolov3/darknet/data/obj/images/gengel32.jpg', '/content/gdrive/My Drive/yolov3/darknet/data/obj/images/gengel26.jpg', '/content/gdrive/My Drive/yolov3/darknet/data/obj/images/gengel2.jpg', '/content/gdrive/My Drive/yolov3/darknet/data/obj/images/gengel3.jpg', '/content/gdrive/My Drive/yolov3/darknet/data/obj/images/gengel27.jpg', '/content/gdrive/My Drive/yolov3/darknet/data/obj/images/gengel33.jpg']\n"
          ],
          "name": "stdout"
        }
      ]
    },
    {
      "cell_type": "code",
      "metadata": {
        "colab": {
          "base_uri": "https://localhost:8080/"
        },
        "id": "rMlKjFCOeZHf",
        "outputId": "cd74c333-909a-423b-bf3a-5960eab929f4"
      },
      "source": [
        "%cd .."
      ],
      "execution_count": null,
      "outputs": [
        {
          "output_type": "stream",
          "text": [
            "/content/gdrive/My Drive/yolov3/darknet\n"
          ],
          "name": "stdout"
        }
      ]
    },
    {
      "cell_type": "code",
      "metadata": {
        "id": "GaUpHRBOdn5-"
      },
      "source": [
        "train_file = open(\"data/train.txt\", \"w\")\n",
        "train_file.write(\"\\n\".join(images_adress_list[:70]))\n",
        "\n",
        "test_file = open(\"data/test.txt\", \"w\")\n",
        "test_file.write(\"\\n\".join(images_adress_list[70:]))\n",
        "\n",
        "train_file.close()\n",
        "test_file.close()"
      ],
      "execution_count": null,
      "outputs": []
    },
    {
      "cell_type": "markdown",
      "metadata": {
        "id": "CeSiuLrXoAjc"
      },
      "source": [
        "**Start the training**"
      ]
    },
    {
      "cell_type": "code",
      "metadata": {
        "id": "S3_g3jclUzMm"
      },
      "source": [
        "# Start the training\n",
        "!./darknet detector train data/obj.data cfg/yolov3_training.cfg darknet53.conv.74 -dont_show"
      ],
      "execution_count": null,
      "outputs": []
    }
  ]
}